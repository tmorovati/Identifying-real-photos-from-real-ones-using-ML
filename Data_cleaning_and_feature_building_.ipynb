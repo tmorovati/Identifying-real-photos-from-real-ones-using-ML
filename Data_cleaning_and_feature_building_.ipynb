{
  "nbformat": 4,
  "nbformat_minor": 0,
  "metadata": {
    "colab": {
      "provenance": [],
      "collapsed_sections": [
        "81p1iDBInQJZ",
        "LQL-J5IqnbY4",
        "0vH5JFwgnjhQ",
        "mPe0Yf7fo9Mq",
        "3MhCVQBOpTNp",
        "8iCFVu1NpXZR",
        "HETeczbz1iZU",
        "eXhKBCd4prN3",
        "Jn1kn7N-DCnU",
        "iVbV9o4AATAL"
      ]
    },
    "kernelspec": {
      "name": "python3",
      "display_name": "Python 3"
    },
    "language_info": {
      "name": "python"
    }
  },
  "cells": [
    {
      "cell_type": "markdown",
      "source": [
        "## **Import libraries**"
      ],
      "metadata": {
        "id": "81p1iDBInQJZ"
      }
    },
    {
      "cell_type": "code",
      "source": [
        "import os\n",
        "import cv2\n",
        "import numpy as np\n",
        "import matplotlib.pyplot as plt\n",
        "from skimage.io import imread, imshow\n",
        "import pandas as pd\n",
        "from skimage.filters import prewitt_h,prewitt_v\n",
        "from sklearn.model_selection import train_test_split"
      ],
      "metadata": {
        "id": "I94k4I4Fm1S5"
      },
      "execution_count": null,
      "outputs": []
    },
    {
      "cell_type": "markdown",
      "source": [
        "## **Connect to the colab**"
      ],
      "metadata": {
        "id": "LQL-J5IqnbY4"
      }
    },
    {
      "cell_type": "code",
      "execution_count": null,
      "metadata": {
        "colab": {
          "base_uri": "https://localhost:8080/"
        },
        "id": "CKMLigpUmxUj",
        "outputId": "af5345e7-d06d-46c1-e684-d3fcdb5457e0"
      },
      "outputs": [
        {
          "output_type": "stream",
          "name": "stdout",
          "text": [
            "Mounted at /content/drive\n"
          ]
        }
      ],
      "source": [
        "from google.colab import drive\n",
        "drive.mount('/content/drive')"
      ]
    },
    {
      "cell_type": "code",
      "source": [
        "size_image = 100"
      ],
      "metadata": {
        "id": "zQH-MCSJm4FC"
      },
      "execution_count": null,
      "outputs": []
    },
    {
      "cell_type": "markdown",
      "source": [
        "## **Functions**"
      ],
      "metadata": {
        "id": "0vH5JFwgnjhQ"
      }
    },
    {
      "cell_type": "code",
      "source": [
        "from_source = ['stable', 'dalle', 'dreamstudio', 'midjourney', 'dream', 'bing', 'craiyon', 'none']\n",
        "from_class = {'mountain': 0, 'sea': 1, 'jungle': 2}\n",
        "\n",
        "def get_feature_from_path(path):\n",
        "    # Perform some transformations on the path string\n",
        "    splited_path = (path.replace(\"delle\", \"dalle\").replace(\"dreamai\", \"dream\")\n",
        "                    .replace(\"-\", \"_\").replace(\"sea5\", \"sea_5\").replace(\"dallebot\", \"dalle\")\n",
        "                    .replace(\".\", \"\").replace(\"forest\", \"jungle\").replace(\"see\", \"sea\")\n",
        "                    .replace(\"dall\", \"dalle\").replace(\"dallee\", \"dalle\")\n",
        "                    .replace(\"dalleminibot\", \"dalle\").replace(\"dallemini\", \"dalle\")\n",
        "                    .replace(\"dalleminbot\", \"dalle\").replace(\"junlge\", \"jungle\")\n",
        "                    .lower().split(\"_\"))\n",
        "\n",
        "    # Check if the split path has a length different than 5 and print the path if it does\n",
        "    if len(splited_path) != 5:\n",
        "        print(splited_path)\n",
        "\n",
        "    # Extract the source and image_class from the split path\n",
        "    source = splited_path[2]\n",
        "    image_class = splited_path[3]\n",
        "\n",
        "    # Check if the extracted source is valid based on the predefined list and print the source and path if it's not\n",
        "    if source not in from_source:\n",
        "        print(source, path)\n",
        "\n",
        "    # Check if the extracted image_class is valid based on the predefined dictionary and print the image_class and path if it's not\n",
        "    if image_class not in from_class:\n",
        "        print(image_class, path)\n",
        "\n",
        "    # Return the extracted source and the corresponding class index from the dictionary\n",
        "    return source, from_class[image_class]\n"
      ],
      "metadata": {
        "id": "OYFjfG3Sm8fD"
      },
      "execution_count": null,
      "outputs": []
    },
    {
      "cell_type": "code",
      "source": [
        "def get_average_of_pixels(image):\n",
        "    # Create a feature matrix of zeros with the shape (size_image, size_image)\n",
        "    feature_matrix = np.zeros((size_image, size_image))\n",
        "\n",
        "    # Iterate over each pixel in the image\n",
        "    for i in range(0, image.shape[0]):\n",
        "        for j in range(0, image.shape[1]):\n",
        "            # Calculate the average pixel value by summing the RGB values and dividing by 3\n",
        "            feature_matrix[i][j] = ((int(image[i, j, 0]) + int(image[i, j, 1]) + int(image[i, j, 2])) / 3)\n",
        "\n",
        "    # Reshape the feature matrix into a 1D array by flattening it\n",
        "    return np.reshape(feature_matrix, size_image * size_image)\n"
      ],
      "metadata": {
        "id": "DthttVyKnABh"
      },
      "execution_count": null,
      "outputs": []
    },
    {
      "cell_type": "code",
      "source": [
        "def get_edge_of_image(image):\n",
        "    # Apply the Canny edge detection algorithm to the image with threshold values of 50 and 150\n",
        "    edges = cv2.Canny(image, 50, 150)\n",
        "\n",
        "    # Reshape the edges matrix into a 1D array by flattening it\n",
        "    return np.reshape(edges, size_image * size_image)\n"
      ],
      "metadata": {
        "id": "hESUtv9Sokwn"
      },
      "execution_count": null,
      "outputs": []
    },
    {
      "cell_type": "code",
      "source": [
        "def get_color_histogram(image, bins=8):\n",
        "    # Convert the image to the HSV color space\n",
        "    hsv_image = cv2.cvtColor(image, cv2.COLOR_BGR2HSV)\n",
        "\n",
        "    # Calculate the histogram for the hue channel\n",
        "    hist_hue = cv2.calcHist([hsv_image], [0], None, [bins], [0, 180])\n",
        "\n",
        "    # Calculate the histogram for the saturation channel\n",
        "    hist_saturation = cv2.calcHist([hsv_image], [1], None, [bins], [0, 256])\n",
        "\n",
        "    # Calculate the histogram for the value channel\n",
        "    hist_value = cv2.calcHist([hsv_image], [2], None, [bins], [0, 256])\n",
        "\n",
        "    # Concatenate the hue, saturation, and value histograms into a single feature vector\n",
        "    hist_features = np.concatenate((hist_hue, hist_saturation, hist_value)).flatten()\n",
        "\n",
        "    # Normalize the histogram features by dividing by the sum of all elements\n",
        "    hist_features /= hist_features.sum()\n",
        "\n",
        "    # Return the normalized histogram features\n",
        "    return hist_features\n"
      ],
      "metadata": {
        "id": "MONwYZPSoqwD"
      },
      "execution_count": null,
      "outputs": []
    },
    {
      "cell_type": "code",
      "source": [
        "def get_features(image):\n",
        "    # Extract the source and image class index from the filename using get_feature_from_path\n",
        "    source, image_class_index = get_feature_from_path(filename)\n",
        "\n",
        "    # Calculate the average pixel value feature using get_average_of_pixels\n",
        "    aop = get_average_of_pixels(img_arr)\n",
        "\n",
        "    # Convert the image array to grayscale\n",
        "    gray_img_arr = cv2.cvtColor(img_arr, cv2.COLOR_BGR2GRAY)\n",
        "\n",
        "    # Calculate the edge feature using get_edge_of_image on the grayscale image\n",
        "    eoi = get_edge_of_image(gray_img_arr)\n",
        "\n",
        "    # Calculate the color histogram feature using get_color_histogram on the original image\n",
        "    ch = get_color_histogram(img_arr)\n",
        "\n",
        "    # Create a feature vector by combining the average pixel value feature\n",
        "    features_of_image = np.array(aop)\n",
        "\n",
        "    # Append the edge feature to the feature vector along the axis=0\n",
        "    features_of_image = np.append(features_of_image, eoi, axis=0)\n",
        "\n",
        "    # Append the color histogram feature to the feature vector along the axis=0\n",
        "    features_of_image = np.append(features_of_image, ch, axis=0)\n",
        "\n",
        "    # Append the image class index to the feature vector\n",
        "    return np.append(features_of_image, np.array([image_class_index]), axis=0)\n"
      ],
      "metadata": {
        "id": "WBLQjElloyPv"
      },
      "execution_count": null,
      "outputs": []
    },
    {
      "cell_type": "markdown",
      "source": [
        "## **Creating a data frame and storing features for photo data**"
      ],
      "metadata": {
        "id": "mPe0Yf7fo9Mq"
      }
    },
    {
      "cell_type": "markdown",
      "source": [
        "### **fake data**"
      ],
      "metadata": {
        "id": "3MhCVQBOpTNp"
      }
    },
    {
      "cell_type": "code",
      "source": [
        "dir_path = '/content/drive/MyDrive/ML/Copy of fake'\n",
        "features_of_images = list()  # List to store extracted features\n",
        "labels = list()  # List to store corresponding labels\n",
        "\n",
        "# Iterate over files in the specified directory\n",
        "for filename in os.listdir(dir_path):\n",
        "    # Check if the file has one of the supported image extensions\n",
        "    if (filename.endswith(\"jpeg\") or filename.endswith(\".jpg\") or\n",
        "            filename.endswith(\".png\") or filename.endswith(\".jfif\")):\n",
        "        # Read the image file and resize it to size_image x size_image\n",
        "        img = cv2.imread(os.path.join(dir_path, filename))\n",
        "        img = cv2.resize(img, (size_image, size_image))\n",
        "        img_arr = np.array(img)  # Convert image to a numpy array\n",
        "\n",
        "        # Extract features from the original image and append them to the features_of_images list\n",
        "        features_of_images.append(get_features(img))\n",
        "        labels.append(0)  # Append the corresponding label (0 in this case)\n",
        "\n",
        "        # Apply transformations (rotations and flips) to augment the dataset\n",
        "        for i in range(3):\n",
        "            img_arr = cv2.rotate(img_arr, cv2.ROTATE_90_CLOCKWISE)\n",
        "            features_of_images.append(get_features(img))\n",
        "            labels.append(0)\n",
        "\n",
        "        img_arr = cv2.rotate(img_arr, cv2.ROTATE_90_CLOCKWISE)\n",
        "\n",
        "        for i in range(2):\n",
        "            img_arr = cv2.flip(img_arr, i)\n",
        "            features_of_images.append(get_features(img))\n",
        "            labels.append(0)\n",
        "    else:\n",
        "        # Print the filename if it doesn't have a supported image extension\n",
        "        print(filename)\n"
      ],
      "metadata": {
        "colab": {
          "base_uri": "https://localhost:8080/"
        },
        "id": "O6nYugIAo3Ef",
        "outputId": "6ae6f752-a1c5-416a-fe32-2e58ed3cb1b6"
      },
      "execution_count": null,
      "outputs": [
        {
          "output_type": "stream",
          "name": "stdout",
          "text": [
            "desktop.ini\n"
          ]
        }
      ]
    },
    {
      "cell_type": "markdown",
      "source": [
        "### **real data**"
      ],
      "metadata": {
        "id": "8iCFVu1NpXZR"
      }
    },
    {
      "cell_type": "code",
      "source": [
        "dir_path = '/content/drive/MyDrive/ML/Copy of real'\n",
        "\n",
        "# Iterate over files in the specified directory\n",
        "for filename in os.listdir(dir_path):\n",
        "    # Check if the file has one of the supported image extensions\n",
        "    if (filename.endswith(\"jpeg\") or filename.endswith(\".jpg\") or\n",
        "            filename.endswith(\".png\") or filename.endswith(\".jfif\")):\n",
        "        try:\n",
        "            # Read the image file and resize it to size_image x size_image\n",
        "            img = cv2.imread(os.path.join(dir_path, filename))\n",
        "            img = cv2.resize(img, (size_image, size_image))\n",
        "            img_arr = np.array(img)  # Convert image to a numpy array\n",
        "\n",
        "            # Extract features from the original image and append them to the features_of_images list\n",
        "            features_of_images.append(get_features(img))\n",
        "            labels.append(1)  # Append the corresponding label (1 in this case)\n",
        "\n",
        "            # Apply transformations (rotations and flips) to augment the dataset\n",
        "            for i in range(3):\n",
        "                img_arr = cv2.rotate(img_arr, cv2.ROTATE_90_CLOCKWISE)\n",
        "                features_of_images.append(get_features(img))\n",
        "                labels.append(1)\n",
        "\n",
        "            img_arr = cv2.rotate(img_arr, cv2.ROTATE_90_CLOCKWISE)\n",
        "\n",
        "            for i in range(2):\n",
        "                img_arr = cv2.flip(img_arr, i)\n",
        "                features_of_images.append(get_features(img))\n",
        "                labels.append(1)\n",
        "        except Exception as e:\n",
        "            # Print the error message and filename if an exception occurs during processing\n",
        "            print(e, filename)\n",
        "    else:\n",
        "        # Print the filename if it doesn't have a supported image extension\n",
        "        print(filename)\n"
      ],
      "metadata": {
        "id": "Y8QO0gVKpMjK"
      },
      "execution_count": null,
      "outputs": []
    },
    {
      "cell_type": "code",
      "source": [
        "import csv\n",
        "\n",
        "# Specify the output CSV file path\n",
        "output_file = '/content/drive/MyDrive/ML/features/features.csv'\n",
        "\n",
        "# # Combine the features and labels into a single list of rows\n",
        "# data = list(zip(features_of_images, labels))\n",
        "\n",
        "# Write the data to the CSV file\n",
        "with open(output_file, 'w', newline='') as csvfile:\n",
        "    writer = csv.writer(csvfile)\n",
        "    # writer.writerow(['Features', 'Labels'])  # Write header row\n",
        "    writer.writerows(features_of_images)  # Write the data rows\n"
      ],
      "metadata": {
        "id": "SJJISVlduCIH"
      },
      "execution_count": null,
      "outputs": []
    },
    {
      "cell_type": "code",
      "source": [
        "df_label = pd.DataFrame(labels)"
      ],
      "metadata": {
        "id": "7fNAf2dypZqq"
      },
      "execution_count": null,
      "outputs": []
    },
    {
      "cell_type": "code",
      "source": [
        "df_label.to_csv('/content/drive/MyDrive/ML/features/labels.csv')"
      ],
      "metadata": {
        "id": "YQdfSIm1qBHE"
      },
      "execution_count": null,
      "outputs": []
    },
    {
      "cell_type": "markdown",
      "source": [
        "### **PCA**"
      ],
      "metadata": {
        "id": "HETeczbz1iZU"
      }
    },
    {
      "cell_type": "code",
      "source": [
        "features_of_images = pd.read_csv('/content/drive/MyDrive/ML/features/features.csv')"
      ],
      "metadata": {
        "id": "ZasNbwaz2Fxy"
      },
      "execution_count": null,
      "outputs": []
    },
    {
      "cell_type": "code",
      "source": [
        "labels = pd.read_csv('/content/drive/MyDrive/ML/features/labels.csv')\n"
      ],
      "metadata": {
        "id": "hxYPyLNd2Sti"
      },
      "execution_count": null,
      "outputs": []
    },
    {
      "cell_type": "code",
      "source": [
        "from sklearn.preprocessing import MinMaxScaler\n",
        "from sklearn.decomposition import PCA\n",
        "\n",
        "X_train, X_test, y_train, y_test = train_test_split(np.array(features_of_images), np.array(labels), test_size=0.2, random_state=42)\n",
        "\n",
        "features_of_images = []\n",
        "labels = []\n",
        "\n",
        "scaler = MinMaxScaler()\n",
        "X_train = scaler.fit_transform(X_train)\n",
        "X_test = scaler.transform(X_test)\n",
        "\n",
        "pca = PCA(n_components = 500)\n",
        "X_train = pca.fit_transform(X_train)\n",
        "X_test = pca.transform(X_test)"
      ],
      "metadata": {
        "id": "qqQF95HL1Uar"
      },
      "execution_count": null,
      "outputs": []
    },
    {
      "cell_type": "code",
      "source": [
        "x_dataset = np.append(X_train, X_test, axis=0)\n",
        "y_dataset = np.append(y_train, y_test, axis=0)"
      ],
      "metadata": {
        "id": "lIpj_IQn-dv8"
      },
      "execution_count": null,
      "outputs": []
    },
    {
      "cell_type": "code",
      "source": [
        "np.shape(x_dataset)"
      ],
      "metadata": {
        "colab": {
          "base_uri": "https://localhost:8080/"
        },
        "id": "X7dpnJCR-wzz",
        "outputId": "d83becf8-659e-411a-ec9c-ee87371aa95d"
      },
      "execution_count": null,
      "outputs": [
        {
          "output_type": "execute_result",
          "data": {
            "text/plain": [
              "(20496, 500)"
            ]
          },
          "metadata": {},
          "execution_count": 14
        }
      ]
    },
    {
      "cell_type": "code",
      "source": [
        "df_pca = pd.DataFrame(x_dataset)"
      ],
      "metadata": {
        "id": "YNAsiji--8-C"
      },
      "execution_count": null,
      "outputs": []
    },
    {
      "cell_type": "code",
      "source": [
        "df_pca.to_csv('/content/drive/MyDrive/ML/features/features_PCA500.csv', index =false)"
      ],
      "metadata": {
        "id": "vL6gJK6x_O7j"
      },
      "execution_count": null,
      "outputs": []
    },
    {
      "cell_type": "code",
      "source": [
        "df_ypca = pd.DataFrame(y_dataset)\n",
        "df_ypca.to_csv('/content/drive/MyDrive/ML/features/features_PCA500_labels.csv' , index =false)"
      ],
      "metadata": {
        "id": "RrpLdCZu_ht3"
      },
      "execution_count": null,
      "outputs": []
    },
    {
      "cell_type": "markdown",
      "source": [
        "# **Data cleaning neural network features**"
      ],
      "metadata": {
        "id": "eXhKBCd4prN3"
      }
    },
    {
      "cell_type": "markdown",
      "source": [
        "## **read data**"
      ],
      "metadata": {
        "id": "Jn1kn7N-DCnU"
      }
    },
    {
      "cell_type": "code",
      "source": [
        "df = pd.read_csv('/content/drive/MyDrive/ML/Copy of features.csv')\n",
        "df_label = pd.read_csv('/content/drive/MyDrive/ML/Copy of labels.csv')"
      ],
      "metadata": {
        "id": "IIToQNLm_1T-"
      },
      "execution_count": null,
      "outputs": []
    },
    {
      "cell_type": "code",
      "source": [
        "df"
      ],
      "metadata": {
        "colab": {
          "base_uri": "https://localhost:8080/",
          "height": 488
        },
        "id": "lgzYvUZIAM5V",
        "outputId": "19c19358-32fd-4e89-b4ae-20640e116c79"
      },
      "execution_count": null,
      "outputs": [
        {
          "output_type": "execute_result",
          "data": {
            "text/plain": [
              "      0.5229696035385132  0.29987668991088867  1.8546563386917114  \\\n",
              "0               0.013961             0.122444           -0.132735   \n",
              "1               0.538563             0.509407            1.775910   \n",
              "2              -0.074457            -0.116068           -0.196760   \n",
              "3              -0.051129            -0.174848           -0.028430   \n",
              "4              -0.093650            -0.197940           -0.089017   \n",
              "...                  ...                  ...                 ...   \n",
              "3412            0.188845             0.181740            0.000457   \n",
              "3413            0.069198            -0.091497            0.124390   \n",
              "3414            0.220922            -0.025789            0.154959   \n",
              "3415           -0.099168            -0.126265           -0.089775   \n",
              "3416           -0.149552            -0.112233           -0.112708   \n",
              "\n",
              "      -0.12764957547187805  0.8136504292488098  -0.14820626378059387  \\\n",
              "0                -0.118628            0.173108             -0.136272   \n",
              "1                -0.127933            1.709609             -0.140871   \n",
              "2                -0.011271           -0.168376              1.241772   \n",
              "3                 1.820420           -0.089466              2.193471   \n",
              "4                 0.313116           -0.197691              0.928758   \n",
              "...                    ...                 ...                   ...   \n",
              "3412             -0.133928            0.575991             -0.167212   \n",
              "3413             -0.169842            0.235213             -0.221722   \n",
              "3414             -0.162007            0.248210             -0.193766   \n",
              "3415              0.245519           -0.126568              1.240803   \n",
              "3416             -0.114982           -0.031138              0.050955   \n",
              "\n",
              "      0.08609316498041153  -0.09961701184511185  -0.0603422187268734  \\\n",
              "0               -0.084335             -0.131051             0.161909   \n",
              "1                0.127283             -0.092119            -0.083881   \n",
              "2               -0.116697             -0.029380            -0.040485   \n",
              "3                0.114552             -0.029080             3.765160   \n",
              "4               -0.100166              0.045868             2.074560   \n",
              "...                   ...                   ...                  ...   \n",
              "3412             0.093093             -0.111037            -0.112299   \n",
              "3413            -0.084336             -0.168707            -0.071297   \n",
              "3414            -0.148826             -0.153745            -0.106148   \n",
              "3415            -0.120931             -0.040557             1.584138   \n",
              "3416            -0.160307             -0.089095             0.048182   \n",
              "\n",
              "      2.0590877532958984  ...  -0.10570526123046875  -0.1393490880727768  \\\n",
              "0               0.824182  ...             -0.113773            -0.165884   \n",
              "1               1.833654  ...             -0.083452            -0.139409   \n",
              "2              -0.107858  ...              0.860665            -0.084137   \n",
              "3              -0.053691  ...              5.197541             1.984923   \n",
              "4              -0.115514  ...              1.319904             0.426353   \n",
              "...                  ...  ...                   ...                  ...   \n",
              "3412            0.514472  ...             -0.075440            -0.164179   \n",
              "3413            0.257700  ...             -0.099730            -0.154313   \n",
              "3414            1.394486  ...             -0.100166            -0.174926   \n",
              "3415           -0.139105  ...              1.359986             0.430271   \n",
              "3416           -0.122266  ...             -0.155368            -0.040546   \n",
              "\n",
              "      -0.05884527415037155  2.431875228881836  0.06206633150577545  \\\n",
              "0                -0.113729           0.221492            -0.142989   \n",
              "1                -0.090185           1.966274            -0.121026   \n",
              "2                 0.326265          -0.254838            -0.131203   \n",
              "3                 1.948692          -0.195730            -0.029222   \n",
              "4                 0.341274          -0.213587            -0.061767   \n",
              "...                    ...                ...                  ...   \n",
              "3412             -0.101755           0.973446             0.586366   \n",
              "3413             -0.100462           0.484658             0.865008   \n",
              "3414             -0.096002           0.072601            -0.136642   \n",
              "3415              0.511444          -0.260776            -0.101833   \n",
              "3416             -0.041083          -0.170057             0.387308   \n",
              "\n",
              "      -0.24589484930038452  0.08688231557607651  -0.1262047439813614  \\\n",
              "0                -0.146476             0.226548            -0.138845   \n",
              "1                -0.134771             0.824233            -0.107500   \n",
              "2                 0.494691            -0.008144            -0.004061   \n",
              "3                 3.375637             0.439649             0.881086   \n",
              "4                 0.886355             0.284618             0.416096   \n",
              "...                    ...                  ...                  ...   \n",
              "3412             -0.112277            -0.200143            -0.107301   \n",
              "3413             -0.115266            -0.130826            -0.148095   \n",
              "3414             -0.139678             0.284274            -0.143948   \n",
              "3415              1.298561             0.006774             0.390692   \n",
              "3416              0.158079            -0.144396            -0.089689   \n",
              "\n",
              "      0.21802791953086853  0.1690087914466858  \n",
              "0                0.201534            0.249506  \n",
              "1                0.530300            0.368836  \n",
              "2               -0.208142           -0.168128  \n",
              "3               -0.012821           -0.026665  \n",
              "4               -0.151859           -0.145942  \n",
              "...                   ...                 ...  \n",
              "3412             0.880406            0.564792  \n",
              "3413             0.845961            0.496394  \n",
              "3414             0.323482            0.430027  \n",
              "3415            -0.125927           -0.158199  \n",
              "3416            -0.186095           -0.172796  \n",
              "\n",
              "[3417 rows x 1280 columns]"
            ],
            "text/html": [
              "\n",
              "  <div id=\"df-f656ff66-9e4c-4971-85b2-8eb771894b8b\">\n",
              "    <div class=\"colab-df-container\">\n",
              "      <div>\n",
              "<style scoped>\n",
              "    .dataframe tbody tr th:only-of-type {\n",
              "        vertical-align: middle;\n",
              "    }\n",
              "\n",
              "    .dataframe tbody tr th {\n",
              "        vertical-align: top;\n",
              "    }\n",
              "\n",
              "    .dataframe thead th {\n",
              "        text-align: right;\n",
              "    }\n",
              "</style>\n",
              "<table border=\"1\" class=\"dataframe\">\n",
              "  <thead>\n",
              "    <tr style=\"text-align: right;\">\n",
              "      <th></th>\n",
              "      <th>0.5229696035385132</th>\n",
              "      <th>0.29987668991088867</th>\n",
              "      <th>1.8546563386917114</th>\n",
              "      <th>-0.12764957547187805</th>\n",
              "      <th>0.8136504292488098</th>\n",
              "      <th>-0.14820626378059387</th>\n",
              "      <th>0.08609316498041153</th>\n",
              "      <th>-0.09961701184511185</th>\n",
              "      <th>-0.0603422187268734</th>\n",
              "      <th>2.0590877532958984</th>\n",
              "      <th>...</th>\n",
              "      <th>-0.10570526123046875</th>\n",
              "      <th>-0.1393490880727768</th>\n",
              "      <th>-0.05884527415037155</th>\n",
              "      <th>2.431875228881836</th>\n",
              "      <th>0.06206633150577545</th>\n",
              "      <th>-0.24589484930038452</th>\n",
              "      <th>0.08688231557607651</th>\n",
              "      <th>-0.1262047439813614</th>\n",
              "      <th>0.21802791953086853</th>\n",
              "      <th>0.1690087914466858</th>\n",
              "    </tr>\n",
              "  </thead>\n",
              "  <tbody>\n",
              "    <tr>\n",
              "      <th>0</th>\n",
              "      <td>0.013961</td>\n",
              "      <td>0.122444</td>\n",
              "      <td>-0.132735</td>\n",
              "      <td>-0.118628</td>\n",
              "      <td>0.173108</td>\n",
              "      <td>-0.136272</td>\n",
              "      <td>-0.084335</td>\n",
              "      <td>-0.131051</td>\n",
              "      <td>0.161909</td>\n",
              "      <td>0.824182</td>\n",
              "      <td>...</td>\n",
              "      <td>-0.113773</td>\n",
              "      <td>-0.165884</td>\n",
              "      <td>-0.113729</td>\n",
              "      <td>0.221492</td>\n",
              "      <td>-0.142989</td>\n",
              "      <td>-0.146476</td>\n",
              "      <td>0.226548</td>\n",
              "      <td>-0.138845</td>\n",
              "      <td>0.201534</td>\n",
              "      <td>0.249506</td>\n",
              "    </tr>\n",
              "    <tr>\n",
              "      <th>1</th>\n",
              "      <td>0.538563</td>\n",
              "      <td>0.509407</td>\n",
              "      <td>1.775910</td>\n",
              "      <td>-0.127933</td>\n",
              "      <td>1.709609</td>\n",
              "      <td>-0.140871</td>\n",
              "      <td>0.127283</td>\n",
              "      <td>-0.092119</td>\n",
              "      <td>-0.083881</td>\n",
              "      <td>1.833654</td>\n",
              "      <td>...</td>\n",
              "      <td>-0.083452</td>\n",
              "      <td>-0.139409</td>\n",
              "      <td>-0.090185</td>\n",
              "      <td>1.966274</td>\n",
              "      <td>-0.121026</td>\n",
              "      <td>-0.134771</td>\n",
              "      <td>0.824233</td>\n",
              "      <td>-0.107500</td>\n",
              "      <td>0.530300</td>\n",
              "      <td>0.368836</td>\n",
              "    </tr>\n",
              "    <tr>\n",
              "      <th>2</th>\n",
              "      <td>-0.074457</td>\n",
              "      <td>-0.116068</td>\n",
              "      <td>-0.196760</td>\n",
              "      <td>-0.011271</td>\n",
              "      <td>-0.168376</td>\n",
              "      <td>1.241772</td>\n",
              "      <td>-0.116697</td>\n",
              "      <td>-0.029380</td>\n",
              "      <td>-0.040485</td>\n",
              "      <td>-0.107858</td>\n",
              "      <td>...</td>\n",
              "      <td>0.860665</td>\n",
              "      <td>-0.084137</td>\n",
              "      <td>0.326265</td>\n",
              "      <td>-0.254838</td>\n",
              "      <td>-0.131203</td>\n",
              "      <td>0.494691</td>\n",
              "      <td>-0.008144</td>\n",
              "      <td>-0.004061</td>\n",
              "      <td>-0.208142</td>\n",
              "      <td>-0.168128</td>\n",
              "    </tr>\n",
              "    <tr>\n",
              "      <th>3</th>\n",
              "      <td>-0.051129</td>\n",
              "      <td>-0.174848</td>\n",
              "      <td>-0.028430</td>\n",
              "      <td>1.820420</td>\n",
              "      <td>-0.089466</td>\n",
              "      <td>2.193471</td>\n",
              "      <td>0.114552</td>\n",
              "      <td>-0.029080</td>\n",
              "      <td>3.765160</td>\n",
              "      <td>-0.053691</td>\n",
              "      <td>...</td>\n",
              "      <td>5.197541</td>\n",
              "      <td>1.984923</td>\n",
              "      <td>1.948692</td>\n",
              "      <td>-0.195730</td>\n",
              "      <td>-0.029222</td>\n",
              "      <td>3.375637</td>\n",
              "      <td>0.439649</td>\n",
              "      <td>0.881086</td>\n",
              "      <td>-0.012821</td>\n",
              "      <td>-0.026665</td>\n",
              "    </tr>\n",
              "    <tr>\n",
              "      <th>4</th>\n",
              "      <td>-0.093650</td>\n",
              "      <td>-0.197940</td>\n",
              "      <td>-0.089017</td>\n",
              "      <td>0.313116</td>\n",
              "      <td>-0.197691</td>\n",
              "      <td>0.928758</td>\n",
              "      <td>-0.100166</td>\n",
              "      <td>0.045868</td>\n",
              "      <td>2.074560</td>\n",
              "      <td>-0.115514</td>\n",
              "      <td>...</td>\n",
              "      <td>1.319904</td>\n",
              "      <td>0.426353</td>\n",
              "      <td>0.341274</td>\n",
              "      <td>-0.213587</td>\n",
              "      <td>-0.061767</td>\n",
              "      <td>0.886355</td>\n",
              "      <td>0.284618</td>\n",
              "      <td>0.416096</td>\n",
              "      <td>-0.151859</td>\n",
              "      <td>-0.145942</td>\n",
              "    </tr>\n",
              "    <tr>\n",
              "      <th>...</th>\n",
              "      <td>...</td>\n",
              "      <td>...</td>\n",
              "      <td>...</td>\n",
              "      <td>...</td>\n",
              "      <td>...</td>\n",
              "      <td>...</td>\n",
              "      <td>...</td>\n",
              "      <td>...</td>\n",
              "      <td>...</td>\n",
              "      <td>...</td>\n",
              "      <td>...</td>\n",
              "      <td>...</td>\n",
              "      <td>...</td>\n",
              "      <td>...</td>\n",
              "      <td>...</td>\n",
              "      <td>...</td>\n",
              "      <td>...</td>\n",
              "      <td>...</td>\n",
              "      <td>...</td>\n",
              "      <td>...</td>\n",
              "      <td>...</td>\n",
              "    </tr>\n",
              "    <tr>\n",
              "      <th>3412</th>\n",
              "      <td>0.188845</td>\n",
              "      <td>0.181740</td>\n",
              "      <td>0.000457</td>\n",
              "      <td>-0.133928</td>\n",
              "      <td>0.575991</td>\n",
              "      <td>-0.167212</td>\n",
              "      <td>0.093093</td>\n",
              "      <td>-0.111037</td>\n",
              "      <td>-0.112299</td>\n",
              "      <td>0.514472</td>\n",
              "      <td>...</td>\n",
              "      <td>-0.075440</td>\n",
              "      <td>-0.164179</td>\n",
              "      <td>-0.101755</td>\n",
              "      <td>0.973446</td>\n",
              "      <td>0.586366</td>\n",
              "      <td>-0.112277</td>\n",
              "      <td>-0.200143</td>\n",
              "      <td>-0.107301</td>\n",
              "      <td>0.880406</td>\n",
              "      <td>0.564792</td>\n",
              "    </tr>\n",
              "    <tr>\n",
              "      <th>3413</th>\n",
              "      <td>0.069198</td>\n",
              "      <td>-0.091497</td>\n",
              "      <td>0.124390</td>\n",
              "      <td>-0.169842</td>\n",
              "      <td>0.235213</td>\n",
              "      <td>-0.221722</td>\n",
              "      <td>-0.084336</td>\n",
              "      <td>-0.168707</td>\n",
              "      <td>-0.071297</td>\n",
              "      <td>0.257700</td>\n",
              "      <td>...</td>\n",
              "      <td>-0.099730</td>\n",
              "      <td>-0.154313</td>\n",
              "      <td>-0.100462</td>\n",
              "      <td>0.484658</td>\n",
              "      <td>0.865008</td>\n",
              "      <td>-0.115266</td>\n",
              "      <td>-0.130826</td>\n",
              "      <td>-0.148095</td>\n",
              "      <td>0.845961</td>\n",
              "      <td>0.496394</td>\n",
              "    </tr>\n",
              "    <tr>\n",
              "      <th>3414</th>\n",
              "      <td>0.220922</td>\n",
              "      <td>-0.025789</td>\n",
              "      <td>0.154959</td>\n",
              "      <td>-0.162007</td>\n",
              "      <td>0.248210</td>\n",
              "      <td>-0.193766</td>\n",
              "      <td>-0.148826</td>\n",
              "      <td>-0.153745</td>\n",
              "      <td>-0.106148</td>\n",
              "      <td>1.394486</td>\n",
              "      <td>...</td>\n",
              "      <td>-0.100166</td>\n",
              "      <td>-0.174926</td>\n",
              "      <td>-0.096002</td>\n",
              "      <td>0.072601</td>\n",
              "      <td>-0.136642</td>\n",
              "      <td>-0.139678</td>\n",
              "      <td>0.284274</td>\n",
              "      <td>-0.143948</td>\n",
              "      <td>0.323482</td>\n",
              "      <td>0.430027</td>\n",
              "    </tr>\n",
              "    <tr>\n",
              "      <th>3415</th>\n",
              "      <td>-0.099168</td>\n",
              "      <td>-0.126265</td>\n",
              "      <td>-0.089775</td>\n",
              "      <td>0.245519</td>\n",
              "      <td>-0.126568</td>\n",
              "      <td>1.240803</td>\n",
              "      <td>-0.120931</td>\n",
              "      <td>-0.040557</td>\n",
              "      <td>1.584138</td>\n",
              "      <td>-0.139105</td>\n",
              "      <td>...</td>\n",
              "      <td>1.359986</td>\n",
              "      <td>0.430271</td>\n",
              "      <td>0.511444</td>\n",
              "      <td>-0.260776</td>\n",
              "      <td>-0.101833</td>\n",
              "      <td>1.298561</td>\n",
              "      <td>0.006774</td>\n",
              "      <td>0.390692</td>\n",
              "      <td>-0.125927</td>\n",
              "      <td>-0.158199</td>\n",
              "    </tr>\n",
              "    <tr>\n",
              "      <th>3416</th>\n",
              "      <td>-0.149552</td>\n",
              "      <td>-0.112233</td>\n",
              "      <td>-0.112708</td>\n",
              "      <td>-0.114982</td>\n",
              "      <td>-0.031138</td>\n",
              "      <td>0.050955</td>\n",
              "      <td>-0.160307</td>\n",
              "      <td>-0.089095</td>\n",
              "      <td>0.048182</td>\n",
              "      <td>-0.122266</td>\n",
              "      <td>...</td>\n",
              "      <td>-0.155368</td>\n",
              "      <td>-0.040546</td>\n",
              "      <td>-0.041083</td>\n",
              "      <td>-0.170057</td>\n",
              "      <td>0.387308</td>\n",
              "      <td>0.158079</td>\n",
              "      <td>-0.144396</td>\n",
              "      <td>-0.089689</td>\n",
              "      <td>-0.186095</td>\n",
              "      <td>-0.172796</td>\n",
              "    </tr>\n",
              "  </tbody>\n",
              "</table>\n",
              "<p>3417 rows × 1280 columns</p>\n",
              "</div>\n",
              "      <button class=\"colab-df-convert\" onclick=\"convertToInteractive('df-f656ff66-9e4c-4971-85b2-8eb771894b8b')\"\n",
              "              title=\"Convert this dataframe to an interactive table.\"\n",
              "              style=\"display:none;\">\n",
              "        \n",
              "  <svg xmlns=\"http://www.w3.org/2000/svg\" height=\"24px\"viewBox=\"0 0 24 24\"\n",
              "       width=\"24px\">\n",
              "    <path d=\"M0 0h24v24H0V0z\" fill=\"none\"/>\n",
              "    <path d=\"M18.56 5.44l.94 2.06.94-2.06 2.06-.94-2.06-.94-.94-2.06-.94 2.06-2.06.94zm-11 1L8.5 8.5l.94-2.06 2.06-.94-2.06-.94L8.5 2.5l-.94 2.06-2.06.94zm10 10l.94 2.06.94-2.06 2.06-.94-2.06-.94-.94-2.06-.94 2.06-2.06.94z\"/><path d=\"M17.41 7.96l-1.37-1.37c-.4-.4-.92-.59-1.43-.59-.52 0-1.04.2-1.43.59L10.3 9.45l-7.72 7.72c-.78.78-.78 2.05 0 2.83L4 21.41c.39.39.9.59 1.41.59.51 0 1.02-.2 1.41-.59l7.78-7.78 2.81-2.81c.8-.78.8-2.07 0-2.86zM5.41 20L4 18.59l7.72-7.72 1.47 1.35L5.41 20z\"/>\n",
              "  </svg>\n",
              "      </button>\n",
              "      \n",
              "  <style>\n",
              "    .colab-df-container {\n",
              "      display:flex;\n",
              "      flex-wrap:wrap;\n",
              "      gap: 12px;\n",
              "    }\n",
              "\n",
              "    .colab-df-convert {\n",
              "      background-color: #E8F0FE;\n",
              "      border: none;\n",
              "      border-radius: 50%;\n",
              "      cursor: pointer;\n",
              "      display: none;\n",
              "      fill: #1967D2;\n",
              "      height: 32px;\n",
              "      padding: 0 0 0 0;\n",
              "      width: 32px;\n",
              "    }\n",
              "\n",
              "    .colab-df-convert:hover {\n",
              "      background-color: #E2EBFA;\n",
              "      box-shadow: 0px 1px 2px rgba(60, 64, 67, 0.3), 0px 1px 3px 1px rgba(60, 64, 67, 0.15);\n",
              "      fill: #174EA6;\n",
              "    }\n",
              "\n",
              "    [theme=dark] .colab-df-convert {\n",
              "      background-color: #3B4455;\n",
              "      fill: #D2E3FC;\n",
              "    }\n",
              "\n",
              "    [theme=dark] .colab-df-convert:hover {\n",
              "      background-color: #434B5C;\n",
              "      box-shadow: 0px 1px 3px 1px rgba(0, 0, 0, 0.15);\n",
              "      filter: drop-shadow(0px 1px 2px rgba(0, 0, 0, 0.3));\n",
              "      fill: #FFFFFF;\n",
              "    }\n",
              "  </style>\n",
              "\n",
              "      <script>\n",
              "        const buttonEl =\n",
              "          document.querySelector('#df-f656ff66-9e4c-4971-85b2-8eb771894b8b button.colab-df-convert');\n",
              "        buttonEl.style.display =\n",
              "          google.colab.kernel.accessAllowed ? 'block' : 'none';\n",
              "\n",
              "        async function convertToInteractive(key) {\n",
              "          const element = document.querySelector('#df-f656ff66-9e4c-4971-85b2-8eb771894b8b');\n",
              "          const dataTable =\n",
              "            await google.colab.kernel.invokeFunction('convertToInteractive',\n",
              "                                                     [key], {});\n",
              "          if (!dataTable) return;\n",
              "\n",
              "          const docLinkHtml = 'Like what you see? Visit the ' +\n",
              "            '<a target=\"_blank\" href=https://colab.research.google.com/notebooks/data_table.ipynb>data table notebook</a>'\n",
              "            + ' to learn more about interactive tables.';\n",
              "          element.innerHTML = '';\n",
              "          dataTable['output_type'] = 'display_data';\n",
              "          await google.colab.output.renderOutput(dataTable, element);\n",
              "          const docLink = document.createElement('div');\n",
              "          docLink.innerHTML = docLinkHtml;\n",
              "          element.appendChild(docLink);\n",
              "        }\n",
              "      </script>\n",
              "    </div>\n",
              "  </div>\n",
              "  "
            ]
          },
          "metadata": {},
          "execution_count": 22
        }
      ]
    },
    {
      "cell_type": "code",
      "source": [
        "df_label"
      ],
      "metadata": {
        "colab": {
          "base_uri": "https://localhost:8080/",
          "height": 424
        },
        "id": "EYwrQpnzAOhN",
        "outputId": "a9facda5-71c1-4c03-f9db-4fa6da3bac40"
      },
      "execution_count": null,
      "outputs": [
        {
          "output_type": "execute_result",
          "data": {
            "text/plain": [
              "        810101213_fake_stable_mountain_2.png\n",
              "0        810701006_fake_stable_jungle_2.jpeg\n",
              "1      810199494_fake_stable_mountain_4.jpeg\n",
              "2          810199567_real_none_jungle_6.jpeg\n",
              "3           810101149_real_none_jungle_1.jpg\n",
              "4          810199436_real_none_jungle_8.jpeg\n",
              "...                                      ...\n",
              "3412  810101201_fake_dallemini_jungle_5.jpeg\n",
              "3413    810198375_fake_stable_mountain_4.jpg\n",
              "3414   810199427_fake_stable_mountain_5.jpeg\n",
              "3415       810197636_real_none_jungle_7.jpeg\n",
              "3416          150400011_real_none_sea_10.jpg\n",
              "\n",
              "[3417 rows x 1 columns]"
            ],
            "text/html": [
              "\n",
              "  <div id=\"df-e3d7e426-3e24-481d-b09a-c68b8ba107b4\">\n",
              "    <div class=\"colab-df-container\">\n",
              "      <div>\n",
              "<style scoped>\n",
              "    .dataframe tbody tr th:only-of-type {\n",
              "        vertical-align: middle;\n",
              "    }\n",
              "\n",
              "    .dataframe tbody tr th {\n",
              "        vertical-align: top;\n",
              "    }\n",
              "\n",
              "    .dataframe thead th {\n",
              "        text-align: right;\n",
              "    }\n",
              "</style>\n",
              "<table border=\"1\" class=\"dataframe\">\n",
              "  <thead>\n",
              "    <tr style=\"text-align: right;\">\n",
              "      <th></th>\n",
              "      <th>810101213_fake_stable_mountain_2.png</th>\n",
              "    </tr>\n",
              "  </thead>\n",
              "  <tbody>\n",
              "    <tr>\n",
              "      <th>0</th>\n",
              "      <td>810701006_fake_stable_jungle_2.jpeg</td>\n",
              "    </tr>\n",
              "    <tr>\n",
              "      <th>1</th>\n",
              "      <td>810199494_fake_stable_mountain_4.jpeg</td>\n",
              "    </tr>\n",
              "    <tr>\n",
              "      <th>2</th>\n",
              "      <td>810199567_real_none_jungle_6.jpeg</td>\n",
              "    </tr>\n",
              "    <tr>\n",
              "      <th>3</th>\n",
              "      <td>810101149_real_none_jungle_1.jpg</td>\n",
              "    </tr>\n",
              "    <tr>\n",
              "      <th>4</th>\n",
              "      <td>810199436_real_none_jungle_8.jpeg</td>\n",
              "    </tr>\n",
              "    <tr>\n",
              "      <th>...</th>\n",
              "      <td>...</td>\n",
              "    </tr>\n",
              "    <tr>\n",
              "      <th>3412</th>\n",
              "      <td>810101201_fake_dallemini_jungle_5.jpeg</td>\n",
              "    </tr>\n",
              "    <tr>\n",
              "      <th>3413</th>\n",
              "      <td>810198375_fake_stable_mountain_4.jpg</td>\n",
              "    </tr>\n",
              "    <tr>\n",
              "      <th>3414</th>\n",
              "      <td>810199427_fake_stable_mountain_5.jpeg</td>\n",
              "    </tr>\n",
              "    <tr>\n",
              "      <th>3415</th>\n",
              "      <td>810197636_real_none_jungle_7.jpeg</td>\n",
              "    </tr>\n",
              "    <tr>\n",
              "      <th>3416</th>\n",
              "      <td>150400011_real_none_sea_10.jpg</td>\n",
              "    </tr>\n",
              "  </tbody>\n",
              "</table>\n",
              "<p>3417 rows × 1 columns</p>\n",
              "</div>\n",
              "      <button class=\"colab-df-convert\" onclick=\"convertToInteractive('df-e3d7e426-3e24-481d-b09a-c68b8ba107b4')\"\n",
              "              title=\"Convert this dataframe to an interactive table.\"\n",
              "              style=\"display:none;\">\n",
              "        \n",
              "  <svg xmlns=\"http://www.w3.org/2000/svg\" height=\"24px\"viewBox=\"0 0 24 24\"\n",
              "       width=\"24px\">\n",
              "    <path d=\"M0 0h24v24H0V0z\" fill=\"none\"/>\n",
              "    <path d=\"M18.56 5.44l.94 2.06.94-2.06 2.06-.94-2.06-.94-.94-2.06-.94 2.06-2.06.94zm-11 1L8.5 8.5l.94-2.06 2.06-.94-2.06-.94L8.5 2.5l-.94 2.06-2.06.94zm10 10l.94 2.06.94-2.06 2.06-.94-2.06-.94-.94-2.06-.94 2.06-2.06.94z\"/><path d=\"M17.41 7.96l-1.37-1.37c-.4-.4-.92-.59-1.43-.59-.52 0-1.04.2-1.43.59L10.3 9.45l-7.72 7.72c-.78.78-.78 2.05 0 2.83L4 21.41c.39.39.9.59 1.41.59.51 0 1.02-.2 1.41-.59l7.78-7.78 2.81-2.81c.8-.78.8-2.07 0-2.86zM5.41 20L4 18.59l7.72-7.72 1.47 1.35L5.41 20z\"/>\n",
              "  </svg>\n",
              "      </button>\n",
              "      \n",
              "  <style>\n",
              "    .colab-df-container {\n",
              "      display:flex;\n",
              "      flex-wrap:wrap;\n",
              "      gap: 12px;\n",
              "    }\n",
              "\n",
              "    .colab-df-convert {\n",
              "      background-color: #E8F0FE;\n",
              "      border: none;\n",
              "      border-radius: 50%;\n",
              "      cursor: pointer;\n",
              "      display: none;\n",
              "      fill: #1967D2;\n",
              "      height: 32px;\n",
              "      padding: 0 0 0 0;\n",
              "      width: 32px;\n",
              "    }\n",
              "\n",
              "    .colab-df-convert:hover {\n",
              "      background-color: #E2EBFA;\n",
              "      box-shadow: 0px 1px 2px rgba(60, 64, 67, 0.3), 0px 1px 3px 1px rgba(60, 64, 67, 0.15);\n",
              "      fill: #174EA6;\n",
              "    }\n",
              "\n",
              "    [theme=dark] .colab-df-convert {\n",
              "      background-color: #3B4455;\n",
              "      fill: #D2E3FC;\n",
              "    }\n",
              "\n",
              "    [theme=dark] .colab-df-convert:hover {\n",
              "      background-color: #434B5C;\n",
              "      box-shadow: 0px 1px 3px 1px rgba(0, 0, 0, 0.15);\n",
              "      filter: drop-shadow(0px 1px 2px rgba(0, 0, 0, 0.3));\n",
              "      fill: #FFFFFF;\n",
              "    }\n",
              "  </style>\n",
              "\n",
              "      <script>\n",
              "        const buttonEl =\n",
              "          document.querySelector('#df-e3d7e426-3e24-481d-b09a-c68b8ba107b4 button.colab-df-convert');\n",
              "        buttonEl.style.display =\n",
              "          google.colab.kernel.accessAllowed ? 'block' : 'none';\n",
              "\n",
              "        async function convertToInteractive(key) {\n",
              "          const element = document.querySelector('#df-e3d7e426-3e24-481d-b09a-c68b8ba107b4');\n",
              "          const dataTable =\n",
              "            await google.colab.kernel.invokeFunction('convertToInteractive',\n",
              "                                                     [key], {});\n",
              "          if (!dataTable) return;\n",
              "\n",
              "          const docLinkHtml = 'Like what you see? Visit the ' +\n",
              "            '<a target=\"_blank\" href=https://colab.research.google.com/notebooks/data_table.ipynb>data table notebook</a>'\n",
              "            + ' to learn more about interactive tables.';\n",
              "          element.innerHTML = '';\n",
              "          dataTable['output_type'] = 'display_data';\n",
              "          await google.colab.output.renderOutput(dataTable, element);\n",
              "          const docLink = document.createElement('div');\n",
              "          docLink.innerHTML = docLinkHtml;\n",
              "          element.appendChild(docLink);\n",
              "        }\n",
              "      </script>\n",
              "    </div>\n",
              "  </div>\n",
              "  "
            ]
          },
          "metadata": {},
          "execution_count": 23
        }
      ]
    },
    {
      "cell_type": "markdown",
      "source": [
        "## **Cleaning labels**"
      ],
      "metadata": {
        "id": "iVbV9o4AATAL"
      }
    },
    {
      "cell_type": "code",
      "source": [
        "df_labels = pd.DataFrame()"
      ],
      "metadata": {
        "id": "KdMyE6gOAQLH"
      },
      "execution_count": null,
      "outputs": []
    },
    {
      "cell_type": "code",
      "source": [
        "from_source = ['real', 'fake']\n",
        "from_class = {'real': 0, 'fake': 1}\n",
        "def get_labels(path):\n",
        "  #path = listToString(path)\n",
        "  splited_path = (path.replace(\"-\", \"_\").replace(\"sea5\", \"sea_5\").lower().split(\"_\"))\n",
        "\n",
        "  if (len(splited_path) != 5):\n",
        "    print(splited_path)\n",
        "  image_class = splited_path[1]\n",
        "  #print(image_class)\n",
        "  if image_class not in from_class:\n",
        "    print( image_class, path)\n",
        "\n",
        "  return from_class[image_class]"
      ],
      "metadata": {
        "id": "j6M9Gi-7AWrQ"
      },
      "execution_count": null,
      "outputs": []
    },
    {
      "cell_type": "code",
      "source": [
        "labels = list()\n",
        "for filename in range(len(df_label)):\n",
        "    if (df_label['810101213_fake_stable_mountain_2.png'][filename].endswith(\"jpeg\") or df_label['810101213_fake_stable_mountain_2.png'][filename].endswith(\".jpg\")   or\n",
        "        df_label['810101213_fake_stable_mountain_2.png'][filename].endswith(\".png\") or df_label['810101213_fake_stable_mountain_2.png'][filename].endswith(\".jfif\") or\n",
        "        df_label['810101213_fake_stable_mountain_2.png'][filename].endswith(\".webp\")):\n",
        "\n",
        "        try:\n",
        "          labels.append(get_labels((df_label['810101213_fake_stable_mountain_2.png'][filename])))\n",
        "        except Exception as e:\n",
        "          print(e, filename)\n",
        "    else:\n",
        "      print(filename)\n",
        "      print(df_label['810101213_fake_stable_mountain_2.png'][filename])"
      ],
      "metadata": {
        "id": "8obWe0jqAYdr"
      },
      "execution_count": null,
      "outputs": []
    }
  ]
}